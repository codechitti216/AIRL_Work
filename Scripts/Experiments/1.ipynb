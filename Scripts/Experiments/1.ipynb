{
 "cells": [
  {
   "cell_type": "markdown",
   "metadata": {},
   "source": [
    "# Experiment Details\n",
    "\n",
    "## Model - MNN\n",
    "## Trajectory - 1\n",
    "## Number of times data has been stacked - \n",
    "## Inputs - 6() + 4()\n",
    "## Learning Rate - "
   ]
  }
 ],
 "metadata": {
  "language_info": {
   "name": "python"
  }
 },
 "nbformat": 4,
 "nbformat_minor": 2
}
